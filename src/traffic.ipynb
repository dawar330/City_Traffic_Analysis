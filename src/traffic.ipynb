{
 "cells": [
  {
   "cell_type": "markdown",
   "metadata": {},
   "source": [
    "I have data related to city traffic that i generate through a simulation and i need implement a algorithm that will generate predictions and recommendations based upon that data. This data contain number of vehicles, position of vehicles, speed of vehicles; the position of vehicles are time based.\n",
    "The prediction purpose is to predict how much congestion will be at whole modeled area\n",
    "Then recommendations can be generated from that provided dataset\n",
    "E.g. traffic congestion remains high at lane 12, so recommendations can be; number of lanes should be increased, maintenance of road should be regular.\n",
    "I also need to integrate this script with my web portal which is developed on react.\n",
    "In simpler terms, you need to:\n",
    "1. Provide a script that predicts congestion rate using any model using the provided data. the predictions are result of congestion rate that you have to calculate using all the inputs of the data. You have to define a formula for congestion using all the input variables, which you thing that have the best effect on congestion rate.\n",
    "2. Make recommendation on it on the predicted values. You can divide the data with respect \"timestamp\" and then provide recommendations the most congested area. you can pre define some recommendations, for example, traffic congestion remains high at lane 12, so recommendations can be; number of lanes should be increased, maintenance of road should be regular and show when congestion rates are high. You divide the whole data into timestamps and then you can say that during a particular timestamp, congestion rate was high/low/medium.\n",
    "3. The predictions and recommendation model needs be integrated with my web portal\n",
    "4. Provide me just a little feedback, so that if there is any confusion in our minds we can clear at that very moment. I cannot afford to revise things after 19th."
   ]
  },
  {
   "cell_type": "markdown",
   "metadata": {},
   "source": [
    "### XML to Datafarme"
   ]
  },
  {
   "cell_type": "code",
   "execution_count": 1,
   "metadata": {},
   "outputs": [],
   "source": [
    "# import pandas as pd \n",
    "# import xml.etree.ElementTree as etree\n",
    "# tree = etree.parse(\"ISL.fcd_geo.xml\")\n",
    "# root = tree.getroot()\n",
    "# columns = [\"timestep\",\"id\",\"x\",\"y\",\"angle\",\"type\",\"speed\",\"pos\",\"lane\",\"slope\"]\n",
    "# datatframe = pd.DataFrame(columns = columns)\n",
    "# for node in root:\n",
    "#     for subnode in node:\n",
    "#         timestep = node.attrib.get(\"time\")\n",
    "#         id_ = subnode.attrib.get(\"id\")\n",
    "#         x = subnode.attrib.get(\"x\")\n",
    "#         y = subnode.attrib.get(\"y\")\n",
    "#         angle = subnode.attrib.get(\"angle\")\n",
    "#         type_ = subnode.attrib.get(\"type\")\n",
    "#         speed = subnode.attrib.get(\"speed\")\n",
    "#         pos = subnode.attrib.get(\"pos\")\n",
    "#         lane = subnode.attrib.get(\"lane\")\n",
    "#         slope = subnode.attrib.get(\"slope\")\n",
    "#         datatframe = datatframe.append(pd.Series([timestep,id_, x, y,angle,type_,speed,pos,lane,slope], index = columns), ignore_index = True)\n",
    "# datatframe.to_csv('main_data.csv')"
   ]
  },
  {
   "cell_type": "markdown",
   "metadata": {},
   "source": [
    "you can just read it derictly (after converting)"
   ]
  },
  {
   "cell_type": "code",
   "execution_count": 182,
   "metadata": {},
   "outputs": [],
   "source": [
    "def find_between( s, first, last ):\n",
    "    try:\n",
    "        start = s.index( first ) + len( first )\n",
    "        end = s.index( last, start )\n",
    "        return s[start:end]\n",
    "    except ValueError:\n",
    "        return \"\""
   ]
  },
  {
   "cell_type": "code",
   "execution_count": 183,
   "metadata": {},
   "outputs": [],
   "source": [
    "## Read area lables\n",
    "## in this cell we will read area names for each lane then we will store them in a dictionary.\n",
    "import glob\n",
    "import os\n",
    "\n",
    "streets = ['F6','F7','F8','F10','F11','G6','G7','G8','G9','G10','G11']\n",
    "dictionary = {street: [] for street in streets} #key:street_id, value: list of lanes\n",
    "\n",
    "text_files_list = glob.glob(\"./Streets IDs/*.txt\")\n",
    "for file in text_files_list:\n",
    "    street_name = find_between(file,'IDs/','.txt')\n",
    "    with open(file) as f:\n",
    "        for line in f:\n",
    "            lane = line[5:].rstrip()\n",
    "            dictionary[street_name].append(lane)"
   ]
  },
  {
   "cell_type": "markdown",
   "metadata": {},
   "source": [
    "### Data preparation"
   ]
  },
  {
   "cell_type": "markdown",
   "metadata": {},
   "source": [
    "After we convert the data to a datafarme now we will prepare the data and compute the target label(congestion or no congestion)"
   ]
  },
  {
   "cell_type": "code",
   "execution_count": 184,
   "metadata": {},
   "outputs": [],
   "source": [
    "#we read the data converted\n",
    "import pandas as pd\n",
    "data = pd.read_csv('main_data.csv')\n",
    "data = data.drop('Unnamed: 0',axis=1)\n",
    "#Then we add a new column called speed_AVG that gives the speed average for each lane.\n",
    "data = data.join(data.groupby('lane')['speed'].sum(), on='lane', rsuffix='_AVG')"
   ]
  },
  {
   "cell_type": "code",
   "execution_count": 185,
   "metadata": {},
   "outputs": [
    {
     "data": {
      "text/plain": [
       "(300907, 11)"
      ]
     },
     "execution_count": 185,
     "metadata": {},
     "output_type": "execute_result"
    }
   ],
   "source": [
    "data.shape"
   ]
  },
  {
   "cell_type": "code",
   "execution_count": 186,
   "metadata": {},
   "outputs": [
    {
     "data": {
      "text/html": [
       "<div>\n",
       "<style scoped>\n",
       "    .dataframe tbody tr th:only-of-type {\n",
       "        vertical-align: middle;\n",
       "    }\n",
       "\n",
       "    .dataframe tbody tr th {\n",
       "        vertical-align: top;\n",
       "    }\n",
       "\n",
       "    .dataframe thead th {\n",
       "        text-align: right;\n",
       "    }\n",
       "</style>\n",
       "<table border=\"1\" class=\"dataframe\">\n",
       "  <thead>\n",
       "    <tr style=\"text-align: right;\">\n",
       "      <th></th>\n",
       "      <th>timestep</th>\n",
       "      <th>id</th>\n",
       "      <th>x</th>\n",
       "      <th>y</th>\n",
       "      <th>angle</th>\n",
       "      <th>type</th>\n",
       "      <th>speed</th>\n",
       "      <th>pos</th>\n",
       "      <th>lane</th>\n",
       "      <th>slope</th>\n",
       "      <th>speed_AVG</th>\n",
       "    </tr>\n",
       "  </thead>\n",
       "  <tbody>\n",
       "    <tr>\n",
       "      <th>0</th>\n",
       "      <td>14400.0</td>\n",
       "      <td>h26925c1:1</td>\n",
       "      <td>73.079136</td>\n",
       "      <td>33.711080</td>\n",
       "      <td>57.504310</td>\n",
       "      <td>default</td>\n",
       "      <td>0.00</td>\n",
       "      <td>16.17</td>\n",
       "      <td>23357319#1_0</td>\n",
       "      <td>0.0</td>\n",
       "      <td>0.000</td>\n",
       "    </tr>\n",
       "    <tr>\n",
       "      <th>1</th>\n",
       "      <td>18000.0</td>\n",
       "      <td>h25899c1:1</td>\n",
       "      <td>73.082447</td>\n",
       "      <td>33.708460</td>\n",
       "      <td>57.852308</td>\n",
       "      <td>default</td>\n",
       "      <td>0.00</td>\n",
       "      <td>44.36</td>\n",
       "      <td>-23489494#0_0</td>\n",
       "      <td>0.0</td>\n",
       "      <td>2.499</td>\n",
       "    </tr>\n",
       "    <tr>\n",
       "      <th>2</th>\n",
       "      <td>18000.0</td>\n",
       "      <td>h26925c1:1</td>\n",
       "      <td>73.079536</td>\n",
       "      <td>33.711190</td>\n",
       "      <td>149.642244</td>\n",
       "      <td>default</td>\n",
       "      <td>13.89</td>\n",
       "      <td>4.69</td>\n",
       "      <td>-23357328#3_0</td>\n",
       "      <td>0.0</td>\n",
       "      <td>133.431</td>\n",
       "    </tr>\n",
       "    <tr>\n",
       "      <th>3</th>\n",
       "      <td>18000.0</td>\n",
       "      <td>h27385c1:1</td>\n",
       "      <td>73.086303</td>\n",
       "      <td>33.709846</td>\n",
       "      <td>150.148767</td>\n",
       "      <td>default</td>\n",
       "      <td>0.00</td>\n",
       "      <td>21.65</td>\n",
       "      <td>23367669_0</td>\n",
       "      <td>0.0</td>\n",
       "      <td>166.680</td>\n",
       "    </tr>\n",
       "    <tr>\n",
       "      <th>4</th>\n",
       "      <td>18000.0</td>\n",
       "      <td>h2926c1:1</td>\n",
       "      <td>73.077335</td>\n",
       "      <td>33.732284</td>\n",
       "      <td>239.009070</td>\n",
       "      <td>default</td>\n",
       "      <td>0.00</td>\n",
       "      <td>153.53</td>\n",
       "      <td>22292736#1_0</td>\n",
       "      <td>0.0</td>\n",
       "      <td>27.780</td>\n",
       "    </tr>\n",
       "  </tbody>\n",
       "</table>\n",
       "</div>"
      ],
      "text/plain": [
       "   timestep          id          x          y       angle     type  speed  \\\n",
       "0   14400.0  h26925c1:1  73.079136  33.711080   57.504310  default   0.00   \n",
       "1   18000.0  h25899c1:1  73.082447  33.708460   57.852308  default   0.00   \n",
       "2   18000.0  h26925c1:1  73.079536  33.711190  149.642244  default  13.89   \n",
       "3   18000.0  h27385c1:1  73.086303  33.709846  150.148767  default   0.00   \n",
       "4   18000.0   h2926c1:1  73.077335  33.732284  239.009070  default   0.00   \n",
       "\n",
       "      pos           lane  slope  speed_AVG  \n",
       "0   16.17   23357319#1_0    0.0      0.000  \n",
       "1   44.36  -23489494#0_0    0.0      2.499  \n",
       "2    4.69  -23357328#3_0    0.0    133.431  \n",
       "3   21.65     23367669_0    0.0    166.680  \n",
       "4  153.53   22292736#1_0    0.0     27.780  "
      ]
     },
     "execution_count": 186,
     "metadata": {},
     "output_type": "execute_result"
    }
   ],
   "source": [
    "data.head()"
   ]
  },
  {
   "cell_type": "markdown",
   "metadata": {},
   "source": [
    "we will base on avg_speed to compute the build the label(congestion or not). To explain more assum we have a congestion so all the vehicules will have 0 speed so the avg will be 0. thus,we have a congestion then we will add label(1) to all vehicules in this lane."
   ]
  },
  {
   "cell_type": "code",
   "execution_count": 187,
   "metadata": {},
   "outputs": [],
   "source": [
    "NewMax = 100\n",
    "NewMin = 0\n",
    "OldMin = data['speed_AVG'].min()\n",
    "OldMax = data['speed_AVG'].max()\n",
    "OldRange = (OldMax - OldMin)  \n",
    "NewRange = (NewMax - NewMin)\n",
    "data['congestion'] = [(((OldValue - OldMin) * NewRange) / OldRange) + NewMin for OldValue in data['speed_AVG']]"
   ]
  },
  {
   "cell_type": "code",
   "execution_count": 203,
   "metadata": {},
   "outputs": [],
   "source": [
    "# # for street, lane_names in dictionary.items():\n",
    "# #     print(lane_names)\n",
    "# # Next lets add streets ID\n",
    "# streets = []\n",
    "# for lane in data['lane']:\n",
    "#     for street, lane_names in dictionary.items():\n",
    "#         if lane in lane_names:\n",
    "#             streets.append(street)\n",
    "# data['streets'] = streets"
   ]
  },
  {
   "cell_type": "code",
   "execution_count": null,
   "metadata": {},
   "outputs": [],
   "source": []
  },
  {
   "cell_type": "code",
   "execution_count": 136,
   "metadata": {},
   "outputs": [],
   "source": [
    "from sklearn import preprocessing\n",
    "# Machine learning models needs \n",
    "# ENcode id colmun\n",
    "le_id = preprocessing.LabelEncoder()\n",
    "le_id.fit(data['id'])\n",
    "id_encode = le_id.transform(data['id'])\n",
    "data['id'] = id_encode\n",
    "#encode lane column\n",
    "le_lane = preprocessing.LabelEncoder()\n",
    "le_lane.fit(data['lane'])\n",
    "lane_encode = le_lane.transform(data['lane'])\n",
    "data['lane'] = lane_encode"
   ]
  },
  {
   "cell_type": "code",
   "execution_count": 137,
   "metadata": {},
   "outputs": [
    {
     "data": {
      "text/html": [
       "<div>\n",
       "<style scoped>\n",
       "    .dataframe tbody tr th:only-of-type {\n",
       "        vertical-align: middle;\n",
       "    }\n",
       "\n",
       "    .dataframe tbody tr th {\n",
       "        vertical-align: top;\n",
       "    }\n",
       "\n",
       "    .dataframe thead th {\n",
       "        text-align: right;\n",
       "    }\n",
       "</style>\n",
       "<table border=\"1\" class=\"dataframe\">\n",
       "  <thead>\n",
       "    <tr style=\"text-align: right;\">\n",
       "      <th></th>\n",
       "      <th>timestep</th>\n",
       "      <th>id</th>\n",
       "      <th>x</th>\n",
       "      <th>y</th>\n",
       "      <th>angle</th>\n",
       "      <th>type</th>\n",
       "      <th>speed</th>\n",
       "      <th>pos</th>\n",
       "      <th>lane</th>\n",
       "      <th>slope</th>\n",
       "      <th>speed_AVG</th>\n",
       "      <th>congestion</th>\n",
       "    </tr>\n",
       "  </thead>\n",
       "  <tbody>\n",
       "    <tr>\n",
       "      <th>0</th>\n",
       "      <td>14400.0</td>\n",
       "      <td>14708</td>\n",
       "      <td>73.079136</td>\n",
       "      <td>33.711080</td>\n",
       "      <td>57.504310</td>\n",
       "      <td>default</td>\n",
       "      <td>0.00</td>\n",
       "      <td>16.17</td>\n",
       "      <td>7385</td>\n",
       "      <td>0.0</td>\n",
       "      <td>0.000</td>\n",
       "      <td>0.000000</td>\n",
       "    </tr>\n",
       "    <tr>\n",
       "      <th>1</th>\n",
       "      <td>18000.0</td>\n",
       "      <td>13838</td>\n",
       "      <td>73.082447</td>\n",
       "      <td>33.708460</td>\n",
       "      <td>57.852308</td>\n",
       "      <td>default</td>\n",
       "      <td>0.00</td>\n",
       "      <td>44.36</td>\n",
       "      <td>2508</td>\n",
       "      <td>0.0</td>\n",
       "      <td>2.499</td>\n",
       "      <td>0.281115</td>\n",
       "    </tr>\n",
       "    <tr>\n",
       "      <th>2</th>\n",
       "      <td>18000.0</td>\n",
       "      <td>14708</td>\n",
       "      <td>73.079536</td>\n",
       "      <td>33.711190</td>\n",
       "      <td>149.642244</td>\n",
       "      <td>default</td>\n",
       "      <td>13.89</td>\n",
       "      <td>4.69</td>\n",
       "      <td>2257</td>\n",
       "      <td>0.0</td>\n",
       "      <td>133.431</td>\n",
       "      <td>15.009787</td>\n",
       "    </tr>\n",
       "    <tr>\n",
       "      <th>3</th>\n",
       "      <td>18000.0</td>\n",
       "      <td>15124</td>\n",
       "      <td>73.086303</td>\n",
       "      <td>33.709846</td>\n",
       "      <td>150.148767</td>\n",
       "      <td>default</td>\n",
       "      <td>0.00</td>\n",
       "      <td>21.65</td>\n",
       "      <td>7449</td>\n",
       "      <td>0.0</td>\n",
       "      <td>166.680</td>\n",
       "      <td>18.750000</td>\n",
       "    </tr>\n",
       "    <tr>\n",
       "      <th>4</th>\n",
       "      <td>18000.0</td>\n",
       "      <td>16310</td>\n",
       "      <td>73.077335</td>\n",
       "      <td>33.732284</td>\n",
       "      <td>239.009070</td>\n",
       "      <td>default</td>\n",
       "      <td>0.00</td>\n",
       "      <td>153.53</td>\n",
       "      <td>5274</td>\n",
       "      <td>0.0</td>\n",
       "      <td>27.780</td>\n",
       "      <td>3.125000</td>\n",
       "    </tr>\n",
       "  </tbody>\n",
       "</table>\n",
       "</div>"
      ],
      "text/plain": [
       "   timestep     id          x          y       angle     type  speed     pos  \\\n",
       "0   14400.0  14708  73.079136  33.711080   57.504310  default   0.00   16.17   \n",
       "1   18000.0  13838  73.082447  33.708460   57.852308  default   0.00   44.36   \n",
       "2   18000.0  14708  73.079536  33.711190  149.642244  default  13.89    4.69   \n",
       "3   18000.0  15124  73.086303  33.709846  150.148767  default   0.00   21.65   \n",
       "4   18000.0  16310  73.077335  33.732284  239.009070  default   0.00  153.53   \n",
       "\n",
       "   lane  slope  speed_AVG  congestion  \n",
       "0  7385    0.0      0.000    0.000000  \n",
       "1  2508    0.0      2.499    0.281115  \n",
       "2  2257    0.0    133.431   15.009787  \n",
       "3  7449    0.0    166.680   18.750000  \n",
       "4  5274    0.0     27.780    3.125000  "
      ]
     },
     "execution_count": 137,
     "metadata": {},
     "output_type": "execute_result"
    }
   ],
   "source": [
    "data.head()"
   ]
  },
  {
   "cell_type": "markdown",
   "metadata": {},
   "source": [
    "**We have now the congestion is a percentage between 0-100 represnet the congestion**"
   ]
  },
  {
   "cell_type": "markdown",
   "metadata": {},
   "source": [
    "now we will remove all unecessary features."
   ]
  },
  {
   "cell_type": "code",
   "execution_count": 138,
   "metadata": {},
   "outputs": [],
   "source": [
    "new_data = data.drop(['type','speed','speed_AVG','slope'],axis=1)"
   ]
  },
  {
   "cell_type": "code",
   "execution_count": 139,
   "metadata": {},
   "outputs": [
    {
     "data": {
      "text/html": [
       "<div>\n",
       "<style scoped>\n",
       "    .dataframe tbody tr th:only-of-type {\n",
       "        vertical-align: middle;\n",
       "    }\n",
       "\n",
       "    .dataframe tbody tr th {\n",
       "        vertical-align: top;\n",
       "    }\n",
       "\n",
       "    .dataframe thead th {\n",
       "        text-align: right;\n",
       "    }\n",
       "</style>\n",
       "<table border=\"1\" class=\"dataframe\">\n",
       "  <thead>\n",
       "    <tr style=\"text-align: right;\">\n",
       "      <th></th>\n",
       "      <th>timestep</th>\n",
       "      <th>id</th>\n",
       "      <th>x</th>\n",
       "      <th>y</th>\n",
       "      <th>angle</th>\n",
       "      <th>pos</th>\n",
       "      <th>lane</th>\n",
       "      <th>congestion</th>\n",
       "    </tr>\n",
       "  </thead>\n",
       "  <tbody>\n",
       "    <tr>\n",
       "      <th>0</th>\n",
       "      <td>14400.0</td>\n",
       "      <td>14708</td>\n",
       "      <td>73.079136</td>\n",
       "      <td>33.711080</td>\n",
       "      <td>57.504310</td>\n",
       "      <td>16.17</td>\n",
       "      <td>7385</td>\n",
       "      <td>0.000000</td>\n",
       "    </tr>\n",
       "    <tr>\n",
       "      <th>1</th>\n",
       "      <td>18000.0</td>\n",
       "      <td>13838</td>\n",
       "      <td>73.082447</td>\n",
       "      <td>33.708460</td>\n",
       "      <td>57.852308</td>\n",
       "      <td>44.36</td>\n",
       "      <td>2508</td>\n",
       "      <td>0.281115</td>\n",
       "    </tr>\n",
       "    <tr>\n",
       "      <th>2</th>\n",
       "      <td>18000.0</td>\n",
       "      <td>14708</td>\n",
       "      <td>73.079536</td>\n",
       "      <td>33.711190</td>\n",
       "      <td>149.642244</td>\n",
       "      <td>4.69</td>\n",
       "      <td>2257</td>\n",
       "      <td>15.009787</td>\n",
       "    </tr>\n",
       "    <tr>\n",
       "      <th>3</th>\n",
       "      <td>18000.0</td>\n",
       "      <td>15124</td>\n",
       "      <td>73.086303</td>\n",
       "      <td>33.709846</td>\n",
       "      <td>150.148767</td>\n",
       "      <td>21.65</td>\n",
       "      <td>7449</td>\n",
       "      <td>18.750000</td>\n",
       "    </tr>\n",
       "    <tr>\n",
       "      <th>4</th>\n",
       "      <td>18000.0</td>\n",
       "      <td>16310</td>\n",
       "      <td>73.077335</td>\n",
       "      <td>33.732284</td>\n",
       "      <td>239.009070</td>\n",
       "      <td>153.53</td>\n",
       "      <td>5274</td>\n",
       "      <td>3.125000</td>\n",
       "    </tr>\n",
       "  </tbody>\n",
       "</table>\n",
       "</div>"
      ],
      "text/plain": [
       "   timestep     id          x          y       angle     pos  lane  congestion\n",
       "0   14400.0  14708  73.079136  33.711080   57.504310   16.17  7385    0.000000\n",
       "1   18000.0  13838  73.082447  33.708460   57.852308   44.36  2508    0.281115\n",
       "2   18000.0  14708  73.079536  33.711190  149.642244    4.69  2257   15.009787\n",
       "3   18000.0  15124  73.086303  33.709846  150.148767   21.65  7449   18.750000\n",
       "4   18000.0  16310  73.077335  33.732284  239.009070  153.53  5274    3.125000"
      ]
     },
     "execution_count": 139,
     "metadata": {},
     "output_type": "execute_result"
    }
   ],
   "source": [
    "new_data.head()"
   ]
  },
  {
   "cell_type": "code",
   "execution_count": 140,
   "metadata": {},
   "outputs": [],
   "source": [
    "X = new_data.drop('congestion',axis=1)\n",
    "y = new_data['congestion']"
   ]
  },
  {
   "cell_type": "code",
   "execution_count": 141,
   "metadata": {},
   "outputs": [
    {
     "data": {
      "text/plain": [
       "RandomForestRegressor()"
      ]
     },
     "execution_count": 141,
     "metadata": {},
     "output_type": "execute_result"
    }
   ],
   "source": [
    "from sklearn.ensemble import RandomForestRegressor\n",
    "from sklearn.datasets import make_classification\n",
    "from sklearn.model_selection import train_test_split\n",
    "X_train, X_test, y_train, y_test = train_test_split(X, y, test_size=0.33, random_state=42)\n",
    "clf = RandomForestRegressor()\n",
    "clf.fit(X_train, y_train)"
   ]
  },
  {
   "cell_type": "code",
   "execution_count": 142,
   "metadata": {},
   "outputs": [],
   "source": [
    "y_pred = clf.predict(X_test)"
   ]
  },
  {
   "cell_type": "code",
   "execution_count": 143,
   "metadata": {},
   "outputs": [
    {
     "data": {
      "text/plain": [
       "2.3627307052709337"
      ]
     },
     "execution_count": 143,
     "metadata": {},
     "output_type": "execute_result"
    }
   ],
   "source": [
    "from sklearn.metrics import mean_squared_error\n",
    "mean_squared_error(y_test, y_pred)"
   ]
  },
  {
   "cell_type": "markdown",
   "metadata": {},
   "source": [
    "### Predictions and recommendations"
   ]
  },
  {
   "cell_type": "code",
   "execution_count": 152,
   "metadata": {},
   "outputs": [],
   "source": [
    "import seaborn as sns\n",
    "import matplotlib.pyplot as plt"
   ]
  },
  {
   "cell_type": "code",
   "execution_count": 144,
   "metadata": {},
   "outputs": [],
   "source": [
    "Perdiction_dataframe = pd.DataFrame(columns = new_data.columns,data=X_test)\n",
    "Perdiction_dataframe['congestion'] = y_pred "
   ]
  },
  {
   "cell_type": "code",
   "execution_count": 145,
   "metadata": {},
   "outputs": [],
   "source": [
    "#we should decoude id and lane columns\n",
    "Perdiction_dataframe['id'] = le_id.inverse_transform(Perdiction_dataframe['id'])\n",
    "Perdiction_dataframe['lane'] = le_lane.inverse_transform(Perdiction_dataframe['lane'])"
   ]
  },
  {
   "cell_type": "code",
   "execution_count": 146,
   "metadata": {},
   "outputs": [
    {
     "data": {
      "text/html": [
       "<div>\n",
       "<style scoped>\n",
       "    .dataframe tbody tr th:only-of-type {\n",
       "        vertical-align: middle;\n",
       "    }\n",
       "\n",
       "    .dataframe tbody tr th {\n",
       "        vertical-align: top;\n",
       "    }\n",
       "\n",
       "    .dataframe thead th {\n",
       "        text-align: right;\n",
       "    }\n",
       "</style>\n",
       "<table border=\"1\" class=\"dataframe\">\n",
       "  <thead>\n",
       "    <tr style=\"text-align: right;\">\n",
       "      <th></th>\n",
       "      <th>timestep</th>\n",
       "      <th>id</th>\n",
       "      <th>x</th>\n",
       "      <th>y</th>\n",
       "      <th>angle</th>\n",
       "      <th>pos</th>\n",
       "      <th>lane</th>\n",
       "      <th>congestion</th>\n",
       "    </tr>\n",
       "  </thead>\n",
       "  <tbody>\n",
       "    <tr>\n",
       "      <th>262074</th>\n",
       "      <td>75600.0</td>\n",
       "      <td>h46502c1:1</td>\n",
       "      <td>73.038747</td>\n",
       "      <td>33.694304</td>\n",
       "      <td>238.770681</td>\n",
       "      <td>35.43</td>\n",
       "      <td>-604353956#1_0</td>\n",
       "      <td>0.000000</td>\n",
       "    </tr>\n",
       "    <tr>\n",
       "      <th>26334</th>\n",
       "      <td>36000.0</td>\n",
       "      <td>h41156c1:1</td>\n",
       "      <td>73.049546</td>\n",
       "      <td>33.689749</td>\n",
       "      <td>149.547039</td>\n",
       "      <td>20.20</td>\n",
       "      <td>23312877#2_0</td>\n",
       "      <td>0.651509</td>\n",
       "    </tr>\n",
       "    <tr>\n",
       "      <th>219364</th>\n",
       "      <td>72000.0</td>\n",
       "      <td>carIn78219:3</td>\n",
       "      <td>73.037686</td>\n",
       "      <td>33.704913</td>\n",
       "      <td>328.132198</td>\n",
       "      <td>41.69</td>\n",
       "      <td>17399990#2_0</td>\n",
       "      <td>21.662530</td>\n",
       "    </tr>\n",
       "    <tr>\n",
       "      <th>40601</th>\n",
       "      <td>39600.0</td>\n",
       "      <td>h38606c1:1</td>\n",
       "      <td>73.045219</td>\n",
       "      <td>33.694017</td>\n",
       "      <td>27.304101</td>\n",
       "      <td>1.48</td>\n",
       "      <td>20337021#2_0</td>\n",
       "      <td>18.855563</td>\n",
       "    </tr>\n",
       "    <tr>\n",
       "      <th>56616</th>\n",
       "      <td>43200.0</td>\n",
       "      <td>h35623c1:1</td>\n",
       "      <td>73.069515</td>\n",
       "      <td>33.698347</td>\n",
       "      <td>59.010659</td>\n",
       "      <td>5.00</td>\n",
       "      <td>307558360#5_0</td>\n",
       "      <td>24.767031</td>\n",
       "    </tr>\n",
       "  </tbody>\n",
       "</table>\n",
       "</div>"
      ],
      "text/plain": [
       "        timestep            id          x          y       angle    pos  \\\n",
       "262074   75600.0    h46502c1:1  73.038747  33.694304  238.770681  35.43   \n",
       "26334    36000.0    h41156c1:1  73.049546  33.689749  149.547039  20.20   \n",
       "219364   72000.0  carIn78219:3  73.037686  33.704913  328.132198  41.69   \n",
       "40601    39600.0    h38606c1:1  73.045219  33.694017   27.304101   1.48   \n",
       "56616    43200.0    h35623c1:1  73.069515  33.698347   59.010659   5.00   \n",
       "\n",
       "                  lane  congestion  \n",
       "262074  -604353956#1_0    0.000000  \n",
       "26334     23312877#2_0    0.651509  \n",
       "219364    17399990#2_0   21.662530  \n",
       "40601     20337021#2_0   18.855563  \n",
       "56616    307558360#5_0   24.767031  "
      ]
     },
     "execution_count": 146,
     "metadata": {},
     "output_type": "execute_result"
    }
   ],
   "source": [
    "Perdiction_dataframe.head()"
   ]
  },
  {
   "cell_type": "markdown",
   "metadata": {},
   "source": [
    "From the plots we can get some recommendation. we know that the congestion value ranges from 0 to 100. so we can choose a treshold .for example lets detect all **lanes** with congestion above 70% "
   ]
  },
  {
   "cell_type": "code",
   "execution_count": 193,
   "metadata": {},
   "outputs": [],
   "source": [
    "data_test = Perdiction_dataframe[Perdiction_dataframe['congestion']>70]"
   ]
  },
  {
   "cell_type": "code",
   "execution_count": 194,
   "metadata": {},
   "outputs": [
    {
     "data": {
      "text/plain": [
       "<AxesSubplot:xlabel='lane', ylabel='congestion'>"
      ]
     },
     "execution_count": 194,
     "metadata": {},
     "output_type": "execute_result"
    },
    {
     "data": {
      "image/png": "[encoded data removed]",
      "text/plain": [
       "<Figure size 1440x720 with 1 Axes>"
      ]
     },
     "metadata": {
      "needs_background": "light"
     },
     "output_type": "display_data"
    }
   ],
   "source": [
    "plt.figure(figsize=(20,10))\n",
    "sns.scatterplot(data= data_test,x='lane', y='congestion')#, color='DarkBlue', label='Group 1');"
   ]
  },
  {
   "cell_type": "markdown",
   "metadata": {},
   "source": [
    "Or we can do the same ,this time in relation with timestep"
   ]
  },
  {
   "cell_type": "code",
   "execution_count": 195,
   "metadata": {},
   "outputs": [
    {
     "data": {
      "text/plain": [
       "<AxesSubplot:xlabel='timestep', ylabel='congestion'>"
      ]
     },
     "execution_count": 195,
     "metadata": {},
     "output_type": "execute_result"
    },
    {
     "data": {
      "image/png": "[encoded data removed]",
      "text/plain": [
       "<Figure size 1440x720 with 1 Axes>"
      ]
     },
     "metadata": {
      "needs_background": "light"
     },
     "output_type": "display_data"
    }
   ],
   "source": [
    "plt.figure(figsize=(20,10))\n",
    "sns.scatterplot(data= data_test,x='timestep', y='congestion')#, color='DarkBlue', label='Group 1');"
   ]
  },
  {
   "cell_type": "markdown",
   "metadata": {},
   "source": [
    "Or we can visualize the two variables(timestep and lane) with relation with congestion."
   ]
  },
  {
   "cell_type": "code",
   "execution_count": 196,
   "metadata": {},
   "outputs": [
    {
     "data": {
      "text/plain": [
       "<AxesSubplot:xlabel='timestep', ylabel='congestion'>"
      ]
     },
     "execution_count": 196,
     "metadata": {},
     "output_type": "execute_result"
    },
    {
     "data": {
      "image/png": "[encoded data removed]",
      "text/plain": [
       "<Figure size 1440x720 with 1 Axes>"
      ]
     },
     "metadata": {
      "needs_background": "light"
     },
     "output_type": "display_data"
    }
   ],
   "source": [
    "plt.figure(figsize=(20,10))\n",
    "sns.scatterplot(data=data_test, x=\"timestep\", y=\"congestion\", hue=\"lane\")"
   ]
  },
  {
   "cell_type": "markdown",
   "metadata": {},
   "source": [
    "By a notification message"
   ]
  },
  {
   "cell_type": "code",
   "execution_count": 200,
   "metadata": {},
   "outputs": [],
   "source": [
    "data_test = Perdiction_dataframe[Perdiction_dataframe['congestion']==100]"
   ]
  },
  {
   "cell_type": "code",
   "execution_count": 202,
   "metadata": {},
   "outputs": [
    {
     "name": "stdout",
     "output_type": "stream",
     "text": [
      "the following lanes :\n",
      " \n",
      " {'8679101#3_1'} \n",
      " have high congestion in the following timesteps:\n",
      " {72000.0, 79200.0, 57600.0, 68400.0, 75600.0, 54000.0} \n"
     ]
    }
   ],
   "source": [
    "print('the following lanes :\\n \\n {} \\n have high congestion in the following timesteps:\\n {} '.format(\n",
    "set(list(data_test['lane'])),set(list(data_test['timestep']))))"
   ]
  },
  {
   "cell_type": "code",
   "execution_count": null,
   "metadata": {},
   "outputs": [],
   "source": []
  }
 ],
 "metadata": {
  "kernelspec": {
   "display_name": "Python 3",
   "language": "python",
   "name": "python3"
  },
  "language_info": {
   "codemirror_mode": {
    "name": "ipython",
    "version": 3
   },
   "file_extension": ".py",
   "mimetype": "text/x-python",
   "name": "python",
   "nbconvert_exporter": "python",
   "pygments_lexer": "ipython3",
   "version": "3.6.12"
  }
 },
 "nbformat": 4,
 "nbformat_minor": 4
}
